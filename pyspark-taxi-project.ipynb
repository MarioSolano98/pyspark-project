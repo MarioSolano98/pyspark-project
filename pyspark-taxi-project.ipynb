{
 "cells": [
  {
   "cell_type": "markdown",
   "id": "cf837b0f",
   "metadata": {},
   "source": [
    "# ** New York Taxis Data Analysis**"
   ]
  },
  {
   "cell_type": "code",
   "execution_count": 1,
   "id": "3a4488c7",
   "metadata": {},
   "outputs": [],
   "source": [
    "# Importing libraries\n",
    "from pyspark.sql import SparkSession\n",
    "from pyspark.sql import functions as f\n",
    "from pyspark.sql.functions import avg, col, count, round, when"
   ]
  },
  {
   "cell_type": "code",
   "execution_count": 2,
   "id": "b16c15f3",
   "metadata": {},
   "outputs": [
    {
     "name": "stderr",
     "output_type": "stream",
     "text": [
      "25/08/30 02:06:05 WARN SparkSession: Using an existing Spark session; only runtime SQL configurations will take effect.\n"
     ]
    }
   ],
   "source": [
    "# Create a Spark session\n",
    "spark = SparkSession.builder.appName(\"MCD-G1\").getOrCreate()"
   ]
  },
  {
   "cell_type": "markdown",
   "id": "01ccd11c",
   "metadata": {},
   "source": [
    "1. Load the Datased"
   ]
  },
  {
   "cell_type": "code",
   "execution_count": 3,
   "id": "aea7280e",
   "metadata": {},
   "outputs": [
    {
     "name": "stderr",
     "output_type": "stream",
     "text": [
      "                                                                                \r"
     ]
    }
   ],
   "source": [
    "# Read the data\n",
    "df = spark.read.parquet(\"gs://mcd_procesamiento_disrtibuido/zone=landing/src=new_yorktaxi\")"
   ]
  },
  {
   "cell_type": "markdown",
   "id": "3463de11",
   "metadata": {},
   "source": [
    "2. Look at the schema"
   ]
  },
  {
   "cell_type": "code",
   "execution_count": 4,
   "id": "3775d776",
   "metadata": {},
   "outputs": [
    {
     "name": "stdout",
     "output_type": "stream",
     "text": [
      "root\n",
      " |-- vendor_id: string (nullable = true)\n",
      " |-- pickup_datetime: timestamp_ntz (nullable = true)\n",
      " |-- dropoff_datetime: timestamp_ntz (nullable = true)\n",
      " |-- passenger_count: long (nullable = true)\n",
      " |-- trip_distance: decimal(38,9) (nullable = true)\n",
      " |-- rate_code: string (nullable = true)\n",
      " |-- store_and_fwd_flag: string (nullable = true)\n",
      " |-- payment_type: string (nullable = true)\n",
      " |-- fare_amount: decimal(38,9) (nullable = true)\n",
      " |-- extra: decimal(38,9) (nullable = true)\n",
      " |-- mta_tax: decimal(38,9) (nullable = true)\n",
      " |-- tip_amount: decimal(38,9) (nullable = true)\n",
      " |-- tolls_amount: decimal(38,9) (nullable = true)\n",
      " |-- imp_surcharge: decimal(38,9) (nullable = true)\n",
      " |-- airport_fee: decimal(38,9) (nullable = true)\n",
      " |-- total_amount: decimal(38,9) (nullable = true)\n",
      " |-- pickup_location_id: string (nullable = true)\n",
      " |-- dropoff_location_id: string (nullable = true)\n",
      " |-- data_file_year: long (nullable = true)\n",
      " |-- data_file_month: long (nullable = true)\n",
      "\n"
     ]
    }
   ],
   "source": [
    "# Print the schema\n",
    "df.printSchema()"
   ]
  },
  {
   "cell_type": "markdown",
   "id": "bd3d31c8",
   "metadata": {},
   "source": [
    "3. Check the amount of records"
   ]
  },
  {
   "cell_type": "code",
   "execution_count": 5,
   "id": "f0a50ae1",
   "metadata": {},
   "outputs": [
    {
     "name": "stderr",
     "output_type": "stream",
     "text": [
      "                                                                                \r"
     ]
    },
    {
     "data": {
      "text/plain": [
       "102871376"
      ]
     },
     "execution_count": 5,
     "metadata": {},
     "output_type": "execute_result"
    }
   ],
   "source": [
    "# Check the amount of records\n",
    "df.count()"
   ]
  },
  {
   "cell_type": "markdown",
   "id": "3cf4da83",
   "metadata": {},
   "source": [
    "4. Total Trip Duration"
   ]
  },
  {
   "cell_type": "code",
   "execution_count": 6,
   "id": "d9fb3e06",
   "metadata": {},
   "outputs": [
    {
     "name": "stderr",
     "output_type": "stream",
     "text": [
      "                                                                                \r"
     ]
    },
    {
     "name": "stdout",
     "output_type": "stream",
     "text": [
      "+---------------------+\n",
      "|trip_duration_minutes|\n",
      "+---------------------+\n",
      "|                  0.0|\n",
      "|                  0.0|\n",
      "|                  1.0|\n",
      "|                  0.0|\n",
      "|                  0.0|\n",
      "|                  0.0|\n",
      "|                  0.0|\n",
      "|                  0.0|\n",
      "|                  1.0|\n",
      "|                  6.0|\n",
      "+---------------------+\n",
      "only showing top 10 rows\n",
      "\n"
     ]
    }
   ],
   "source": [
    "# Add new column trip_duration_minutes\n",
    "df = df.withColumn(\n",
    "    \"trip_duration_minutes\",\n",
    "    f.round((f.unix_timestamp(\"dropoff_datetime\") - f.unix_timestamp(\"pickup_datetime\")) / 60)\n",
    ")\n",
    "\n",
    "# Print trip_duration_minutes column\n",
    "df.select(\"trip_duration_minutes\").show(10)"
   ]
  },
  {
   "cell_type": "markdown",
   "id": "1e6e742f",
   "metadata": {},
   "source": [
    "5. Description of the payment type"
   ]
  },
  {
   "cell_type": "code",
   "execution_count": 7,
   "id": "5119cb48",
   "metadata": {},
   "outputs": [
    {
     "name": "stdout",
     "output_type": "stream",
     "text": [
      "+-----------------+\n",
      "|payment_type_desc|\n",
      "+-----------------+\n",
      "|      Credit Card|\n",
      "|      Credit Card|\n",
      "|      Credit Card|\n",
      "|      Credit Card|\n",
      "|             Cash|\n",
      "|      Credit Card|\n",
      "|      Credit Card|\n",
      "|             Cash|\n",
      "|             Cash|\n",
      "|      Credit Card|\n",
      "+-----------------+\n",
      "only showing top 10 rows\n",
      "\n"
     ]
    },
    {
     "name": "stderr",
     "output_type": "stream",
     "text": [
      "\r\n",
      "[Stage 5:>                                                          (0 + 1) / 1]\r\n",
      "\r\n",
      "                                                                                \r"
     ]
    }
   ],
   "source": [
    "# Map payment_type codes to descriptions\n",
    "df = df.withColumn(\n",
    "    \"payment_type_desc\",\n",
    "    when(col(\"payment_type\") == \"1\", \"Credit Card\")\n",
    "    .when(col(\"payment_type\") == \"2\", \"Cash\")\n",
    "    .when(col(\"payment_type\") == \"3\", \"No Charge\")\n",
    "    .when(col(\"payment_type\") == \"4\", \"Dispute\")\n",
    "    .when(col(\"payment_type\") == \"5\", \"Unknown\")\n",
    "    .when(col(\"payment_type\") == \"6\", \"Voided Trip\")\n",
    "    .otherwise(\"Other\"))\n",
    "\n",
    "# Print payment_type_desc column\n",
    "df.select(\"payment_type_desc\").show(10)"
   ]
  },
  {
   "cell_type": "markdown",
   "id": "de3fe238",
   "metadata": {},
   "source": [
    "6. Amount of travels per Vendor by month"
   ]
  },
  {
   "cell_type": "code",
   "execution_count": null,
   "id": "fbb2f969",
   "metadata": {},
   "outputs": [
    {
     "name": "stdout",
     "output_type": "stream",
     "text": [
      "=== Número de Viajes por Proveedor por Mes ===\n"
     ]
    },
    {
     "name": "stderr",
     "output_type": "stream",
     "text": [
      "[Stage 8:>                                                          (0 + 1) / 1]\r"
     ]
    },
    {
     "name": "stdout",
     "output_type": "stream",
     "text": [
      "+---------+--------------+---------------+----------+\n",
      "|vendor_id|data_file_year|data_file_month|trip_count|\n",
      "+---------+--------------+---------------+----------+\n",
      "|2        |2018          |8              |4700433   |\n",
      "|2        |2018          |7              |4683654   |\n",
      "|5        |2018          |8              |44        |\n",
      "|1        |2018          |8              |3131523   |\n",
      "|1        |2018          |7              |3163910   |\n",
      "|4        |2018          |7              |3578      |\n",
      "|4        |2018          |8              |23039     |\n",
      "|1        |2018          |9              |3211746   |\n",
      "|1        |2018          |1              |3846134   |\n",
      "|4        |2018          |9              |79452     |\n",
      "|2        |2018          |6              |5013605   |\n",
      "|2        |2018          |9              |4757772   |\n",
      "|2        |2018          |1              |4914553   |\n",
      "|4        |2018          |6              |1105      |\n",
      "|5        |2018          |9              |123       |\n",
      "|1        |2018          |6              |3699956   |\n",
      "|2        |2018          |11             |4761596   |\n",
      "|1        |2018          |10             |3582346   |\n",
      "|4        |2018          |10             |140427    |\n",
      "|4        |2018          |12             |112210    |\n",
      "+---------+--------------+---------------+----------+\n",
      "only showing top 20 rows\n",
      "\n"
     ]
    },
    {
     "name": "stderr",
     "output_type": "stream",
     "text": [
      "\r\n",
      "                                                                                \r"
     ]
    }
   ],
   "source": [
    "# Aggregate the trip count per vendor per month\n",
    "trips_per_vendor_month = df.groupBy(\"vendor_id\", \"data_file_year\", \"data_file_month\").agg(count(\"*\").alias(\"trip_count\"))\n",
    "\n",
    "print(\"=== Amount of travels per vendor by month ===\")\n",
    "trips_per_vendor_month.show(truncate=False)"
   ]
  },
  {
   "cell_type": "markdown",
   "id": "e9c107d1",
   "metadata": {},
   "source": [
    "7. Average Ticket"
   ]
  },
  {
   "cell_type": "code",
   "execution_count": null,
   "id": "057b1cfc",
   "metadata": {},
   "outputs": [
    {
     "name": "stdout",
     "output_type": "stream",
     "text": [
      "=== Ticket Promedio Total ===\n"
     ]
    },
    {
     "name": "stderr",
     "output_type": "stream",
     "text": [
      "[Stage 9:===================================================>     (17 + 2) / 19]\r"
     ]
    },
    {
     "name": "stdout",
     "output_type": "stream",
     "text": [
      "+--------------------+\n",
      "|average_total_ticket|\n",
      "+--------------------+\n",
      "|               16.43|\n",
      "+--------------------+\n",
      "\n"
     ]
    },
    {
     "name": "stderr",
     "output_type": "stream",
     "text": [
      "\r\n",
      "                                                                                \r"
     ]
    }
   ],
   "source": [
    "# Calculate overall average ticket\n",
    "average_ticket_total = df.agg(round(avg(\"total_amount\"), 2).alias(\"average_total_ticket\"))\n",
    "\n",
    "print(\"=== Average Ticket  ===\")\n",
    "average_ticket_total.show()"
   ]
  },
  {
   "cell_type": "markdown",
   "id": "4be23ec4",
   "metadata": {},
   "source": [
    "8. Average Ticket Grouped By Payment Type"
   ]
  },
  {
   "cell_type": "code",
   "execution_count": null,
   "id": "cfb5e1af",
   "metadata": {},
   "outputs": [
    {
     "name": "stdout",
     "output_type": "stream",
     "text": [
      "=== Ticket Promedio por Medio de Pago ===\n"
     ]
    },
    {
     "name": "stderr",
     "output_type": "stream",
     "text": [
      "[Stage 12:=====================================================>  (18 + 1) / 19]\r"
     ]
    },
    {
     "name": "stdout",
     "output_type": "stream",
     "text": [
      "+-----------------+--------------------+\n",
      "|payment_type_desc|average_total_ticket|\n",
      "+-----------------+--------------------+\n",
      "|Credit Card      |17.70               |\n",
      "|Cash             |13.40               |\n",
      "|Dispute          |12.75               |\n",
      "|No Charge        |18.82               |\n",
      "|Other            |48.34               |\n",
      "|Unknown          |32.51               |\n",
      "+-----------------+--------------------+\n",
      "\n"
     ]
    },
    {
     "name": "stderr",
     "output_type": "stream",
     "text": [
      "\r\n",
      "                                                                                \r"
     ]
    }
   ],
   "source": [
    "# Calculate average ticket grouped by payment_type_desc\n",
    "average_ticket_by_payment = df.groupBy(\"payment_type_desc\").agg(round(avg(\"total_amount\"), 2).alias(\"average_total_ticket\"))\n",
    "\n",
    "print(\"=== Average Ticket Grouped By Payment Type ===\")\n",
    "average_ticket_by_payment.show(truncate=False)"
   ]
  }
 ],
 "metadata": {
  "kernelspec": {
   "display_name": "PySpark",
   "language": "python",
   "name": "pyspark"
  },
  "language_info": {
   "codemirror_mode": {
    "name": "ipython",
    "version": 3
   },
   "file_extension": ".py",
   "mimetype": "text/x-python",
   "name": "python",
   "nbconvert_exporter": "python",
   "pygments_lexer": "ipython3",
   "version": "3.11.8"
  }
 },
 "nbformat": 4,
 "nbformat_minor": 5
}
